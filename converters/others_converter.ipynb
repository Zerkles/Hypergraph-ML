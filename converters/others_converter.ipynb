{
 "cells": [
  {
   "cell_type": "code",
   "execution_count": null,
   "metadata": {
    "collapsed": true,
    "pycharm": {
     "name": "#%%\n"
    }
   },
   "outputs": [],
   "source": [
    "import pandas as pd\n",
    "import shutil"
   ]
  },
  {
   "cell_type": "markdown",
   "source": [
    "Copy required files"
   ],
   "metadata": {
    "collapsed": false,
    "pycharm": {
     "name": "#%% md\n"
    }
   }
  },
  {
   "cell_type": "code",
   "execution_count": null,
   "outputs": [],
   "source": [
    "dataset_names = ['trivago-clicks', 'walmart-trips']\n",
    "\n",
    "for data_name in dataset_names:\n",
    "    shutil.copy2(f'../data-source/{data_name}/label-names-{data_name}.txt',\n",
    "                 f'../data/{data_name}/label-names-{data_name}.txt')"
   ],
   "metadata": {
    "collapsed": false,
    "pycharm": {
     "name": "#%%\n"
    }
   }
  },
  {
   "cell_type": "markdown",
   "source": [
    "Convert node labels from txt file to csv"
   ],
   "metadata": {
    "collapsed": false,
    "pycharm": {
     "name": "#%% md\n"
    }
   }
  },
  {
   "cell_type": "code",
   "execution_count": null,
   "outputs": [],
   "source": [
    "for data_name in dataset_names:\n",
    "    filepath_in = f\"../data-source/{data_name}/node-labels-{data_name}.txt\"\n",
    "    filepath_out = f\"../data/{data_name}/node-labels-{data_name}.csv\"\n",
    "\n",
    "    df = pd.read_csv(filepath_in, names=['target'], header=None)\n",
    "    df.to_csv(filepath_out, index=True, index_label='id')"
   ],
   "metadata": {
    "collapsed": false,
    "pycharm": {
     "name": "#%%\n"
    }
   }
  },
  {
   "cell_type": "markdown",
   "source": [
    "Create star format file based on hyperedges file"
   ],
   "metadata": {
    "collapsed": false,
    "pycharm": {
     "name": "#%% md\n"
    }
   }
  },
  {
   "cell_type": "code",
   "execution_count": null,
   "outputs": [],
   "source": [
    "for data_name in dataset_names:\n",
    "    filepath_in = f\"../data-source/{data_name}/hyperedges-{data_name}.txt\"\n",
    "    filepath_out = f\"../data/{data_name}/star-{data_name}.txt\"\n",
    "    filepath_out2 = f\"../data/{data_name}/hyperedges-{data_name}.txt\"\n",
    "\n",
    "    with open(filepath_in, 'r') as f_in, open(filepath_out, 'w') as f_out, open(filepath_out2, 'w') as f_out2:\n",
    "        for i, line in enumerate(f_in.readlines()):\n",
    "            line = f\"{i} {line.replace(',', ' ')}\"\n",
    "            f_out2.write(line)\n",
    "\n",
    "            lst = line[:-1].split(' ')\n",
    "            f_out.write(f\"{lst[0]}\\t{lst[0]}\\n\")\n",
    "            for elem in lst[1:]:\n",
    "                f_out.write(f\"{lst[0]}\\t{elem}\\n\")"
   ],
   "metadata": {
    "collapsed": false,
    "pycharm": {
     "name": "#%%\n"
    }
   }
  }
 ],
 "metadata": {
  "kernelspec": {
   "display_name": "Python 3",
   "language": "python",
   "name": "python3"
  },
  "language_info": {
   "codemirror_mode": {
    "name": "ipython",
    "version": 2
   },
   "file_extension": ".py",
   "mimetype": "text/x-python",
   "name": "python",
   "nbconvert_exporter": "python",
   "pygments_lexer": "ipython2",
   "version": "2.7.6"
  }
 },
 "nbformat": 4,
 "nbformat_minor": 0
}