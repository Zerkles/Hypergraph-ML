{
 "cells": [
  {
   "cell_type": "code",
   "execution_count": null,
   "outputs": [],
   "source": [
    "import pandas as pd\n",
    "from sklearn.model_selection import train_test_split\n",
    "from sklearn.preprocessing import LabelEncoder\n",
    "\n",
    "train_test_split_size = 0.2"
   ],
   "metadata": {
    "collapsed": false,
    "pycharm": {
     "name": "#%%\n"
    }
   }
  },
  {
   "cell_type": "markdown",
   "source": [
    "# Convert FB format to clique and star\n",
    "\n",
    "1. Download the Facebook dataset from SNAP: https://snap.stanford.edu/data/facebook-large-page-page-network.html\n",
    "2. Extract the dataset to ./fb-pages/\n",
    "3. Compute Cleora embeddings as shown in \"Cleora training\" section in `example_link_prediction.ipynb`"
   ],
   "metadata": {
    "collapsed": false,
    "pycharm": {
     "name": "#%% md\n"
    }
   }
  },
  {
   "cell_type": "code",
   "execution_count": null,
   "outputs": [],
   "source": [
    "df_cleora = pd.read_csv(\"../data-source/facebook_large/musae_facebook_edges.csv\")\n",
    "df_cleora.head()"
   ],
   "metadata": {
    "collapsed": false,
    "pycharm": {
     "name": "#%%\n"
    }
   }
  },
  {
   "cell_type": "code",
   "execution_count": null,
   "outputs": [],
   "source": [
    "train_cleora, _ = train_test_split(df_cleora, test_size=train_test_split_size)"
   ],
   "metadata": {
    "collapsed": false,
    "pycharm": {
     "name": "#%%\n"
    }
   }
  },
  {
   "cell_type": "code",
   "execution_count": null,
   "outputs": [],
   "source": [
    "fb_cleora_input_clique_filename = \"../data/fb-pages/hyperedges-fb-pages.txt\"\n",
    "fb_cleora_input_star_filename = \"../data/fb-pages/star-fb-pages.txt\""
   ],
   "metadata": {
    "collapsed": false,
    "pycharm": {
     "name": "#%%\n"
    }
   }
  },
  {
   "cell_type": "code",
   "execution_count": null,
   "outputs": [],
   "source": [
    "with open(fb_cleora_input_clique_filename, \"w\") as f_cleora_clique, open(fb_cleora_input_star_filename,\n",
    "                                                                         \"w\") as f_cleora_star:\n",
    "    grouped_train = train_cleora.groupby('id_1')\n",
    "    for n, (name, group) in enumerate(grouped_train):\n",
    "        group_list = group['id_2'].tolist()\n",
    "        group_elems = list(map(str, group_list))\n",
    "        f_cleora_clique.write(f\"{name} {' '.join(group_elems)}\\n\")\n",
    "        f_cleora_star.write(f\"{n}\\t{name}\\n\")\n",
    "        for elem in group_elems:\n",
    "            f_cleora_star.write(f\"{n}\\t{elem}\\n\")"
   ],
   "metadata": {
    "collapsed": false,
    "pycharm": {
     "name": "#%%\n"
    }
   }
  },
  {
   "cell_type": "markdown",
   "source": [
    "Label encoding page type"
   ],
   "metadata": {
    "collapsed": false,
    "pycharm": {
     "name": "#%% md\n"
    }
   }
  },
  {
   "cell_type": "code",
   "execution_count": null,
   "outputs": [],
   "source": [
    "df = pd.read_csv(\"../data-source/facebook_large/musae_facebook_target.csv\")\n",
    "df.rename(columns={'page_type': 'target'}, inplace=True)\n",
    "\n",
    "enc = LabelEncoder()\n",
    "df['target'] = enc.fit_transform(df['target'])\n",
    "\n",
    "df.to_csv(\"../data/fb-pages/node-labels-fb-pages.csv\", index=False)\n",
    "\n",
    "with open('../data/fb-pages/label-names-fb-pages.txt', 'w') as f:\n",
    "    for l in enc.classes_:\n",
    "        f.write(l + '\\n')"
   ],
   "metadata": {
    "collapsed": false,
    "pycharm": {
     "name": "#%%\n"
    }
   }
  }
 ],
 "metadata": {
  "kernelspec": {
   "display_name": "Python 3",
   "language": "python",
   "name": "python3"
  },
  "language_info": {
   "codemirror_mode": {
    "name": "ipython",
    "version": 2
   },
   "file_extension": ".py",
   "mimetype": "text/x-python",
   "name": "python",
   "nbconvert_exporter": "python",
   "pygments_lexer": "ipython2",
   "version": "2.7.6"
  }
 },
 "nbformat": 4,
 "nbformat_minor": 0
}