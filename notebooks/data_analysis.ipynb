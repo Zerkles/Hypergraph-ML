{
 "cells": [
  {
   "cell_type": "code",
   "execution_count": null,
   "metadata": {
    "collapsed": true,
    "pycharm": {
     "name": "#%%\n"
    }
   },
   "outputs": [],
   "source": [
    "import pandas as pd\n",
    "import matplotlib.pyplot as plt\n",
    "\n",
    "path_main_dir = \"..\""
   ]
  },
  {
   "cell_type": "markdown",
   "source": [
    "## Facebook Large"
   ],
   "metadata": {
    "collapsed": false,
    "pycharm": {
     "name": "#%% md\n"
    }
   }
  },
  {
   "cell_type": "markdown",
   "source": [
    "Attribute: facebook_id"
   ],
   "metadata": {
    "collapsed": false,
    "pycharm": {
     "name": "#%% md\n"
    }
   }
  },
  {
   "cell_type": "code",
   "execution_count": null,
   "outputs": [],
   "source": [
    "df_fb = pd.read_csv(f\"{path_main_dir}/data/fb-pages/node-labels-fb-pages.csv\", index_col=0)\n",
    "\n",
    "print(\"Unique facebook_id's:\", df_fb[\"facebook_id\"].unique().size)"
   ],
   "metadata": {
    "collapsed": false,
    "pycharm": {
     "name": "#%%\n"
    }
   }
  },
  {
   "cell_type": "markdown",
   "source": [
    "Attribute: page_name"
   ],
   "metadata": {
    "collapsed": false,
    "pycharm": {
     "name": "#%% md\n"
    }
   }
  },
  {
   "cell_type": "code",
   "execution_count": null,
   "outputs": [],
   "source": [
    "from collections import Counter\n",
    "\n",
    "cnt = Counter(df_fb[\"page_name\"].values)\n",
    "cnt = Counter({k: c for k, c in cnt.items() if c > 1})\n",
    "\n",
    "print(\"Number of page names appearing more than once:\", len(cnt))\n",
    "print(\"Most common page names:\", cnt.most_common(10))"
   ],
   "metadata": {
    "collapsed": false,
    "pycharm": {
     "name": "#%%\n"
    }
   }
  },
  {
   "cell_type": "markdown",
   "source": [
    "Attribute: target"
   ],
   "metadata": {
    "collapsed": false,
    "pycharm": {
     "name": "#%% md\n"
    }
   }
  },
  {
   "cell_type": "code",
   "execution_count": null,
   "outputs": [],
   "source": [
    "import os\n",
    "\n",
    "\n",
    "def draw_pie_chart(result, name):\n",
    "    plt.figure(figsize=(8, 8))\n",
    "    plt.title(name)\n",
    "    plt.pie(result.values(), labels=result.keys(), autopct='%1.1f%%')\n",
    "    plt.savefig(f\"{plots_path}/{name}.png\", bbox_inches=\"tight\")\n",
    "    print(\"Precise numbers per label:\", result)\n",
    "\n",
    "\n",
    "def get_labels_and_node_stats(plot_name, path_label, df):\n",
    "    labels = []\n",
    "    with open(path_label) as f:\n",
    "        for line in f.readlines():\n",
    "            labels.append(line[:-1])\n",
    "\n",
    "    labels_map = dict(zip(range(len(labels)), labels))\n",
    "\n",
    "    cnt = Counter(df['target'])\n",
    "    cnt = Counter({labels_map[k]: c for k, c in cnt.items()})\n",
    "    result = dict(cnt.most_common())\n",
    "\n",
    "    draw_pie_chart(result, f\"{plot_name} - target\")\n",
    "\n",
    "    print(\"Number of nodes:\", df.shape[0])\n",
    "\n",
    "    return labels_map\n",
    "\n",
    "\n",
    "plots_path = f\"{path_main_dir}/output/plots/analysis\"\n",
    "os.makedirs(plots_path, exist_ok=True)"
   ],
   "metadata": {
    "collapsed": false,
    "pycharm": {
     "name": "#%%\n"
    }
   }
  },
  {
   "cell_type": "code",
   "execution_count": null,
   "outputs": [],
   "source": [
    "plot_name = \"Facebook Large\"\n",
    "path_label = f\"{path_main_dir}/data/fb-pages/label-names-fb-pages.txt\"\n",
    "\n",
    "labels_map = get_labels_and_node_stats(plot_name, path_label, df_fb)"
   ],
   "metadata": {
    "collapsed": false,
    "pycharm": {
     "name": "#%%\n"
    }
   }
  },
  {
   "cell_type": "markdown",
   "source": [
    "Basic statistics about hyperedges and number of connections per class."
   ],
   "metadata": {
    "collapsed": false,
    "pycharm": {
     "name": "#%% md\n"
    }
   }
  },
  {
   "cell_type": "code",
   "execution_count": null,
   "outputs": [],
   "source": [
    "from statistics import mean, median\n",
    "\n",
    "\n",
    "def get_hyperedges_stats(plot_name, hyperedges_path, df, labels_map):\n",
    "    connections_per_class = dict()\n",
    "    with open(hyperedges_path) as f_edges:\n",
    "        hyperedges_len = []\n",
    "        for line in f_edges.readlines():\n",
    "            hyperedge = line.split()[1:]\n",
    "            hyperedges_len.append(len(hyperedge))\n",
    "\n",
    "            for node in hyperedge:\n",
    "                target = df.iloc[int(node)]['target']\n",
    "                connections_per_class[target] = connections_per_class.get(target, 0) + 1\n",
    "\n",
    "        print(\"Number of hyperedges:\", len(hyperedges_len))\n",
    "        print(\"Mean value:\", mean(hyperedges_len))\n",
    "        print(\"Median value:\", median(hyperedges_len))\n",
    "        print(\"Rank of hypergraph (max edge length):\", max(hyperedges_len))\n",
    "\n",
    "        connections_per_class = {labels_map[k]: v for k, v in connections_per_class.items()}\n",
    "        draw_pie_chart(connections_per_class, f\"{plot_name} - target distribution in hyperedges\")\n"
   ],
   "metadata": {
    "collapsed": false,
    "pycharm": {
     "name": "#%%\n"
    }
   }
  },
  {
   "cell_type": "code",
   "execution_count": null,
   "outputs": [],
   "source": [
    "hyperedges_path = f\"{path_main_dir}/data/fb-pages/hyperedges-fb-pages.txt\"\n",
    "\n",
    "get_hyperedges_stats(plot_name, hyperedges_path, df_fb, labels_map)"
   ],
   "metadata": {
    "collapsed": false,
    "pycharm": {
     "name": "#%%\n"
    }
   }
  },
  {
   "cell_type": "markdown",
   "source": [
    "## Walmart trips"
   ],
   "metadata": {
    "collapsed": false,
    "pycharm": {
     "name": "#%% md\n"
    }
   }
  },
  {
   "cell_type": "code",
   "execution_count": null,
   "outputs": [],
   "source": [
    "df_walmart = pd.read_csv(f\"{path_main_dir}/data/walmart-trips/node-labels-walmart-trips.csv\", index_col=0)"
   ],
   "metadata": {
    "collapsed": false,
    "pycharm": {
     "name": "#%%\n"
    }
   }
  },
  {
   "cell_type": "code",
   "execution_count": null,
   "outputs": [],
   "source": [
    "plot_name = \"Walmart trips\"\n",
    "path_label = f\"{path_main_dir}/data/walmart-trips/label-names-walmart-trips.txt\"\n",
    "\n",
    "labels_map = get_labels_and_node_stats(plot_name, path_label, df_walmart)"
   ],
   "metadata": {
    "collapsed": false,
    "pycharm": {
     "name": "#%%\n"
    }
   }
  },
  {
   "cell_type": "markdown",
   "source": [
    "Basic statistics about hyperedges and number of connections per class."
   ],
   "metadata": {
    "collapsed": false,
    "pycharm": {
     "name": "#%% md\n"
    }
   }
  },
  {
   "cell_type": "code",
   "execution_count": null,
   "outputs": [],
   "source": [
    "hyperedges_path = f\"{path_main_dir}/data/walmart-trips/hyperedges-walmart-trips.txt\"\n",
    "\n",
    "get_hyperedges_stats(plot_name, hyperedges_path, df_walmart, labels_map)"
   ],
   "metadata": {
    "collapsed": false,
    "pycharm": {
     "name": "#%%\n"
    }
   }
  },
  {
   "cell_type": "markdown",
   "source": [
    "## Trivago clicks"
   ],
   "metadata": {
    "collapsed": false,
    "pycharm": {
     "name": "#%% md\n"
    }
   }
  },
  {
   "cell_type": "code",
   "execution_count": null,
   "outputs": [],
   "source": [
    "df_trivago = pd.read_csv(f\"{path_main_dir}/data/trivago-clicks/node-labels-trivago-clicks.csv\", index_col=0)"
   ],
   "metadata": {
    "collapsed": false,
    "pycharm": {
     "name": "#%%\n"
    }
   }
  },
  {
   "cell_type": "code",
   "execution_count": null,
   "outputs": [],
   "source": [
    "labels = []\n",
    "with open(f\"{path_main_dir}/data/trivago-clicks/label-names-trivago-clicks.txt\") as f:\n",
    "    for line in f.readlines():\n",
    "        labels.append(line[:-1])\n",
    "\n",
    "labels_map = dict(zip(range(len(labels)), labels))\n",
    "\n",
    "cnt = Counter(df_trivago['target'])\n",
    "cnt = Counter({labels_map[k]: c for k, c in cnt.items()})\n",
    "\n",
    "result = dict(cnt.most_common(len(cnt)))\n",
    "\n",
    "plt.figure(figsize=(8, 6), dpi=80)\n",
    "plt.plot(range(len(result)), result.values())\n",
    "plt.xlabel(\"Class index\")\n",
    "plt.ylabel(\"Number of nodes\")\n",
    "plt.savefig(plots_path + \"/Trivago clicks - target.png\")\n",
    "\n",
    "print(\"Number of nodes:\", df_trivago.shape[0])\n",
    "# print(\"Precise numbers per label:\", result)\n",
    "# print(\"in %:\", [round(x * 100, 2) / df_trivago.shape[0] for x in result.values()])"
   ],
   "metadata": {
    "collapsed": false,
    "pycharm": {
     "name": "#%%\n"
    }
   }
  },
  {
   "cell_type": "code",
   "execution_count": null,
   "outputs": [],
   "source": [
    "plot_name = \"Trivago clicks\"\n",
    "hyperedges_path = f\"{path_main_dir}/data/trivago-clicks/hyperedges-trivago-clicks.txt\"\n",
    "\n",
    "get_hyperedges_stats(plot_name, hyperedges_path, df_trivago, labels_map)"
   ],
   "metadata": {
    "collapsed": false,
    "pycharm": {
     "name": "#%%\n"
    }
   }
  },
  {
   "cell_type": "markdown",
   "source": [
    "## Trivago clicks continents"
   ],
   "metadata": {
    "collapsed": false,
    "pycharm": {
     "name": "#%% md\n"
    }
   }
  },
  {
   "cell_type": "code",
   "execution_count": null,
   "outputs": [],
   "source": [
    "df_trivago_cont = pd.read_csv(\n",
    "    f\"{path_main_dir}/data/trivago-clicks-continents/node-labels-trivago-clicks-continents.csv\",\n",
    "    index_col=0)"
   ],
   "metadata": {
    "collapsed": false,
    "pycharm": {
     "name": "#%%\n"
    }
   }
  },
  {
   "cell_type": "code",
   "execution_count": null,
   "outputs": [],
   "source": [
    "plot_name = \"Trivago clicks (continents)\"\n",
    "path_label = f\"{path_main_dir}/data/trivago-clicks-continents/label-names-trivago-clicks-continents.txt\"\n",
    "\n",
    "labels_map = get_labels_and_node_stats(plot_name, path_label, df_trivago_cont)"
   ],
   "metadata": {
    "collapsed": false,
    "pycharm": {
     "name": "#%%\n"
    }
   }
  },
  {
   "cell_type": "markdown",
   "source": [
    "Basic statistics about hyperedges and number of connections per class."
   ],
   "metadata": {
    "collapsed": false,
    "pycharm": {
     "name": "#%% md\n"
    }
   }
  },
  {
   "cell_type": "code",
   "execution_count": null,
   "outputs": [],
   "source": [
    "hyperedges_path = f\"{path_main_dir}/data/trivago-clicks-continents/hyperedges-trivago-clicks-continents.txt\"\n",
    "\n",
    "get_hyperedges_stats(plot_name, hyperedges_path, df_trivago_cont, labels_map)"
   ],
   "metadata": {
    "collapsed": false,
    "pycharm": {
     "name": "#%%\n"
    }
   }
  }
 ],
 "metadata": {
  "kernelspec": {
   "display_name": "Python 3",
   "language": "python",
   "name": "python3"
  },
  "language_info": {
   "codemirror_mode": {
    "name": "ipython",
    "version": 2
   },
   "file_extension": ".py",
   "mimetype": "text/x-python",
   "name": "python",
   "nbconvert_exporter": "python",
   "pygments_lexer": "ipython2",
   "version": "2.7.6"
  }
 },
 "nbformat": 4,
 "nbformat_minor": 0
}