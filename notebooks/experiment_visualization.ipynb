{
 "cells": [
  {
   "cell_type": "code",
   "execution_count": null,
   "metadata": {
    "collapsed": true,
    "pycharm": {
     "name": "#%%\n"
    }
   },
   "outputs": [],
   "source": [
    "import pandas as pd\n",
    "import seaborn as sns\n",
    "\n",
    "path_main_dir = \"..\"\n",
    "\n",
    "df = pd.read_csv(path_main_dir + \"/output/results.csv\")\n",
    "df.head()"
   ]
  },
  {
   "cell_type": "code",
   "execution_count": null,
   "outputs": [],
   "source": [
    "# ax = sns.boxplot(x=\"cleora_n_iter\", y=\"log_loss\", hue=\"algo\",\n",
    "#                  data=df, palette=\"Set3\")"
   ],
   "metadata": {
    "collapsed": false,
    "pycharm": {
     "name": "#%%\n"
    }
   }
  },
  {
   "cell_type": "code",
   "execution_count": null,
   "outputs": [],
   "source": [
    "default_params = {\n",
    "    #embedding computation\n",
    "    'cleora_n_iter': 5,\n",
    "    'cleora_dim': 1024,\n",
    "\n",
    "    #dataset preparation\n",
    "    'train_test_split': 0.2,\n",
    "    'dataset_name': 'fb-pages',\n",
    "    #options: fb-pages, walmart-trips, trivago-clicks, trivago-clicks-continents\n",
    "    #modifiers: -resampled-node/-resampled-hyperedge for all datasets\n",
    "\n",
    "    'batch_size': 256,\n",
    "    'test_batch_size': 1000,\n",
    "    'epochs': 20,\n",
    "}"
   ],
   "metadata": {
    "collapsed": false,
    "pycharm": {
     "name": "#%%\n"
    }
   }
  },
  {
   "cell_type": "code",
   "execution_count": null,
   "outputs": [],
   "source": [
    "import os\n",
    "import matplotlib.pyplot as plt\n",
    "import matplotlib\n",
    "\n",
    "os.makedirs(f\"{path_main_dir}/output/plots/experiments\", exist_ok=True)\n",
    "matplotlib.rcParams.update({'font.size': 12})\n",
    "\n",
    "for dataset_name in ['fb-pages', 'walmart-trips', 'trivago-clicks-continents']:\n",
    "    default_params['dataset_name'] = dataset_name\n",
    "    for param in ['cleora_n_iter', 'cleora_dim']:\n",
    "        data = df\n",
    "        params = default_params.copy()\n",
    "        params.pop(param)\n",
    "\n",
    "        for k, v in params.items():\n",
    "            data = data.loc[data[k] == v]\n",
    "\n",
    "        data.sort_values(by=[param], inplace=True)\n",
    "\n",
    "        fig, ((ax11, ax21), (ax12, ax22)) = plt.subplots(2, 2, sharex=True)\n",
    "\n",
    "        fig.set_size_inches((12, 6))\n",
    "        fig.suptitle(params[\"dataset_name\"])\n",
    "        fig.supxlabel(param)\n",
    "        fig.supylabel('value')\n",
    "\n",
    "        dct = {'clique': (ax11, ax12), 'star': (ax21, ax22)}\n",
    "\n",
    "        for algo, (ax1, ax2) in dct.items():\n",
    "            ax1.set_title(algo)\n",
    "            # ax1.set_xticks(list(data.loc[data['algo'] == algo][param]))\n",
    "\n",
    "            data_final = data.loc[data['algo'] == algo]\n",
    "\n",
    "            for measure in ['f1_micro', 'f1_macro']:\n",
    "                ax1.errorbar(param, measure, yerr=f\"std_{measure}\", label=measure, data=data_final)\n",
    "            ax2.errorbar(param, \"log_loss\", yerr=f\"std_log_loss\", label=\"log_loss\", color='r', data=data_final)\n",
    "\n",
    "            ax1.legend()\n",
    "            ax2.legend()\n",
    "\n",
    "        plt.tight_layout()\n",
    "        plt.savefig(f\"{path_main_dir}/output/plots/experiments/{dataset_name}_{param}\")\n",
    "        plt.show()"
   ],
   "metadata": {
    "collapsed": false,
    "pycharm": {
     "name": "#%%\n"
    }
   }
  },
  {
   "cell_type": "code",
   "execution_count": null,
   "outputs": [],
   "source": [
    "# experiments = df.to_dict()\n",
    "# [experiments.pop(k) for k in [\"epochs\", \"train_test_split\", \"batch_size\", \"test_batch_size\"]]\n",
    "#\n",
    "# # gmean_scores = []\n",
    "# # for key in logs.keys():\n",
    "# #     gmean_scores.append(logs[key]['gmean'])\n",
    "#\n",
    "# plot_colors = ['blue', 'green', 'orange', 'violet', 'red', 'brown', 'pink', 'orange', 'violet', 'red', 'brown', 'pink']\n",
    "# fig, axs = plt.subplots(len(experiments.keys()) + 1, **{\"figsize\": (6.5, 6.5)})\n",
    "# fig.suptitle(\"a\")\n",
    "# axs[-1].set(xlabel=\"Experiment Number\")\n",
    "#\n",
    "# axs[0].plot(range(len(experiments[\"algo\"].keys())), gmean_scores, plot_colors[0], markersize=5, marker='o')\n",
    "# axs[0].set(ylabel=\"Geometric Mean Score\")\n",
    "# axs[0].grid(True)\n",
    "#\n",
    "# for key in experiments.keys():\n",
    "#     param_values = []\n",
    "#     for exp in parameters_perm:\n",
    "#         param_values.append(exp[key])\n",
    "#\n",
    "#     plot_index = list(parameters_dist.keys()).index(key) + 1\n",
    "#     ax = axs[plot_index]\n",
    "#     ax.plot(range(1, len(param_values) + 1), param_values, plot_colors[plot_index], markersize=5, marker='o')\n",
    "#     ax.set(ylabel=key)\n",
    "#     ax.grid(True)\n",
    "#\n",
    "# plt.savefig(filepath_for_logs_and_plots + filename + \".png\")\n",
    "# plt.show()"
   ],
   "metadata": {
    "collapsed": false,
    "pycharm": {
     "name": "#%%\n"
    }
   }
  }
 ],
 "metadata": {
  "kernelspec": {
   "display_name": "Python 3",
   "language": "python",
   "name": "python3"
  },
  "language_info": {
   "codemirror_mode": {
    "name": "ipython",
    "version": 2
   },
   "file_extension": ".py",
   "mimetype": "text/x-python",
   "name": "python",
   "nbconvert_exporter": "python",
   "pygments_lexer": "ipython2",
   "version": "2.7.6"
  }
 },
 "nbformat": 4,
 "nbformat_minor": 0
}