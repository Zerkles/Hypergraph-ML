{
 "cells": [
  {
   "cell_type": "code",
   "execution_count": null,
   "metadata": {
    "collapsed": true,
    "pycharm": {
     "name": "#%%\n"
    }
   },
   "outputs": [],
   "source": [
    "import pandas as pd\n",
    "import seaborn as sns\n",
    "\n",
    "path_main_dir = \"..\"\n",
    "\n",
    "df = pd.read_csv(path_main_dir + \"/output/results.csv\")\n",
    "df.head()"
   ]
  },
  {
   "cell_type": "code",
   "execution_count": null,
   "outputs": [],
   "source": [
    "default_params = {\n",
    "    #embedding computation\n",
    "    'cleora_n_iter': 5,\n",
    "    'cleora_dim': 1024,\n",
    "\n",
    "    #dataset preparation\n",
    "    'train_test_split': 0.2,\n",
    "}"
   ],
   "metadata": {
    "collapsed": false,
    "pycharm": {
     "name": "#%%\n"
    }
   }
  },
  {
   "cell_type": "code",
   "execution_count": null,
   "outputs": [],
   "source": [
    "import os\n",
    "import matplotlib.pyplot as plt\n",
    "\n",
    "os.makedirs(f\"{path_main_dir}/output/plots/experiments\", exist_ok=True)\n",
    "\n",
    "for dataset_name in ['fb-pages', 'walmart-trips', 'trivago-clicks-continents']:\n",
    "    default_params['dataset_name'] = dataset_name\n",
    "    for param in ['cleora_n_iter', 'cleora_dim']:\n",
    "        data = df\n",
    "        params = default_params.copy()\n",
    "        params.pop(param)\n",
    "\n",
    "        for k, v in params.items():\n",
    "            data = data.loc[data[k] == v]\n",
    "\n",
    "        data.sort_values(by=[param], inplace=True)\n",
    "\n",
    "        fig, axes = plt.subplots(3, 2, sharex=True, sharey='row')\n",
    "        plt.rcParams.update({'font.size': 15})\n",
    "\n",
    "        fig.set_size_inches((12, 6))\n",
    "        fig.suptitle(params[\"dataset_name\"])\n",
    "        fig.supxlabel(param)\n",
    "        fig.supylabel('value')\n",
    "\n",
    "        ax1, ax2 = axes[0]\n",
    "        ax1.set_title('clique')\n",
    "        ax2.set_title('star')\n",
    "\n",
    "        measures = ['f1_micro', 'f1_macro', 'log_loss']\n",
    "        colors = ['r', 'g', 'b']\n",
    "\n",
    "        for measure, (ax1, ax2), color in zip(measures, axes, colors):\n",
    "            data_final = data.loc[data['algo'] == 'clique']\n",
    "            ax1.errorbar(param, measure, yerr=f\"std_{measure}\", label=measure, color=color, data=data_final)\n",
    "\n",
    "            data_final = data.loc[data['algo'] == 'star']\n",
    "            ax2.errorbar(param, measure, yerr=f\"std_{measure}\", label=measure, color=color, data=data_final)\n",
    "\n",
    "            ax1.legend()\n",
    "            ax2.legend()\n",
    "\n",
    "        plt.tight_layout()\n",
    "        plt.savefig(f\"{path_main_dir}/output/plots/experiments/{dataset_name}_{param}\")\n",
    "        plt.show()"
   ],
   "metadata": {
    "collapsed": false,
    "pycharm": {
     "name": "#%%\n"
    }
   }
  }
 ],
 "metadata": {
  "kernelspec": {
   "display_name": "Python 3",
   "language": "python",
   "name": "python3"
  },
  "language_info": {
   "codemirror_mode": {
    "name": "ipython",
    "version": 2
   },
   "file_extension": ".py",
   "mimetype": "text/x-python",
   "name": "python",
   "nbconvert_exporter": "python",
   "pygments_lexer": "ipython2",
   "version": "2.7.6"
  }
 },
 "nbformat": 4,
 "nbformat_minor": 0
}