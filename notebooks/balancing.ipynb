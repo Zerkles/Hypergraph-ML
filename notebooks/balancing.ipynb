{
 "cells": [
  {
   "cell_type": "code",
   "execution_count": null,
   "outputs": [],
   "source": [
    "import pandas as pd\n",
    "\n",
    "path_main_dir = \"..\""
   ],
   "metadata": {
    "collapsed": false,
    "pycharm": {
     "name": "#%%\n"
    }
   }
  },
  {
   "cell_type": "code",
   "execution_count": null,
   "metadata": {
    "collapsed": true,
    "pycharm": {
     "name": "#%%\n"
    }
   },
   "outputs": [],
   "source": [
    "import random\n",
    "\n",
    "\n",
    "class LabelsConverter:\n",
    "    def __init__(self, labels_path):\n",
    "        labels = []\n",
    "        with open(labels_path) as f:\n",
    "            for line in f.readlines():\n",
    "                labels.append(line[:-1])\n",
    "\n",
    "        self.DECODE_MAP = dict(zip(range(len(labels)), labels))\n",
    "        self.ENCODE_MAP = dict(zip(labels, range(len(labels))))\n",
    "\n",
    "    def decode_label(self, label):\n",
    "        return self.DECODE_MAP[label]\n",
    "\n",
    "    def encode_label(self, label):\n",
    "        return self.ENCODE_MAP[label]\n",
    "\n",
    "    def decode_dct(self, dct):\n",
    "        return {self.decode_label(k): v for k, v in dct.items()}\n",
    "\n",
    "    def encode_dct(self, dct):\n",
    "        return {self.encode_label(k): v for k, v in dct.items()}\n",
    "\n",
    "    def get_targets(self):\n",
    "        return list(self.DECODE_MAP.keys())\n",
    "\n",
    "\n",
    "def load_hyperedges(hyperedges_path):\n",
    "    with open(hyperedges_path) as f_edges:\n",
    "        hyperedges = []\n",
    "        for line in f_edges.readlines():\n",
    "            hyperedges.append({int(x) for x in line.split()[1:]})\n",
    "\n",
    "        return hyperedges\n",
    "\n",
    "\n",
    "def load_nodes(nodes_df_path):\n",
    "    df = pd.read_csv(nodes_df_path, index_col=0)\n",
    "    nodes = dict()\n",
    "\n",
    "    for target in conv.get_targets():\n",
    "        nodes[target] = set(df.loc[df['target'] == target].index)\n",
    "\n",
    "    return nodes\n",
    "\n",
    "\n",
    "def calc_distribution(nodes, hyperedges, method):\n",
    "    distrib = dict(zip(nodes.keys(), [0] * len(nodes)))\n",
    "\n",
    "    if method == \"node\":\n",
    "        # total_nodes = sum([len(nodes[key]) for key in nodes.keys()])\n",
    "        # distrib = {k: round(len(v) * 100 / total_nodes, 2) for k, v in nodes.items()}\n",
    "        # commented transforming into %\n",
    "        distrib = {k: len(v) for k, v in nodes.items()}\n",
    "\n",
    "    elif method == \"hyperedge\":\n",
    "        # total_connections = 0\n",
    "\n",
    "        for edge in hyperedges:\n",
    "            for k in nodes.keys():\n",
    "                distrib[k] += len(nodes[k].intersection(edge))\n",
    "            # total_connections += len(edge)\n",
    "\n",
    "        # distrib = {k: round(v * 100 / total_connections, 2) for k, v in distrib.items()}\n",
    "        distrib = {k: v for k, v in distrib.items()}\n",
    "\n",
    "    else:\n",
    "        raise ValueError(\"Method nod recognized\")\n",
    "\n",
    "    return distrib\n",
    "\n",
    "\n",
    "# methods are: node, hyperedge\n",
    "def hypergraph_undersampling(nodes_df_path, hyperedges_path, conv, method='node'):\n",
    "    nodes = load_nodes(nodes_df_path)\n",
    "    hyperedges = load_hyperedges(hyperedges_path)\n",
    "\n",
    "    distrib = calc_distribution(nodes, hyperedges, method)\n",
    "    print(\"Before resampling:\", conv.decode_dct(distrib))\n",
    "\n",
    "    minority_class = min(distrib, key=distrib.get)\n",
    "    classes_to_resample = list(distrib.keys())\n",
    "    classes_to_resample.remove(minority_class)\n",
    "\n",
    "    while classes_to_resample:\n",
    "        class_under_resampling = classes_to_resample[0]\n",
    "\n",
    "        while distrib[class_under_resampling] > min(distrib.values()):\n",
    "            node_to_remove = random.choice(list(nodes[class_under_resampling]))\n",
    "\n",
    "            nodes[class_under_resampling].remove(node_to_remove)\n",
    "            [edge.discard(node_to_remove) for edge in hyperedges]\n",
    "\n",
    "            distrib = calc_distribution(nodes, hyperedges, method)\n",
    "\n",
    "        classes_to_resample.pop(0)\n",
    "        print(conv.decode_dct(distrib))\n",
    "\n",
    "    hyperedges = list(filter((set()).__ne__, hyperedges))  #clear empty edges\n",
    "\n",
    "    return nodes, hyperedges"
   ]
  },
  {
   "cell_type": "code",
   "execution_count": null,
   "outputs": [],
   "source": [
    "dataset_name = \"fb-pages\"\n",
    "method = 'node'\n",
    "\n",
    "label_names_path = f\"{path_main_dir}/data/{dataset_name}/label-names-{dataset_name}.txt\"\n",
    "nodes_df_path = f\"{path_main_dir}/data/{dataset_name}/node-labels-{dataset_name}.csv\"\n",
    "hyperedges_path = f\"{path_main_dir}/data/{dataset_name}/hyperedges-{dataset_name}.txt\"\n",
    "\n",
    "conv = LabelsConverter(label_names_path)\n",
    "nodes, hyperedges = hypergraph_undersampling(nodes_df_path, hyperedges_path, conv, method)\n",
    "\n",
    "result = conv.decode_dct(calc_distribution(nodes, hyperedges, method))\n",
    "print(\"After resampling:\", result)\n",
    "\n",
    "#TODO: Zmiana indeksów wierzchołków żeby zaczynały się od 1 i szły po kolei i zmiana w krawędziach ?"
   ],
   "metadata": {
    "collapsed": false,
    "pycharm": {
     "name": "#%%\n"
    }
   }
  },
  {
   "cell_type": "markdown",
   "source": [
    "Save to file"
   ],
   "metadata": {
    "collapsed": false,
    "pycharm": {
     "name": "#%% md\n"
    }
   }
  },
  {
   "cell_type": "code",
   "execution_count": null,
   "outputs": [],
   "source": [
    "import os\n",
    "\n",
    "dataset_name += \"-resampled\"\n",
    "os.makedirs(f\"{path_main_dir}/data/{dataset_name}/\", exist_ok=True)"
   ],
   "metadata": {
    "collapsed": false,
    "pycharm": {
     "name": "#%%\n"
    }
   }
  },
  {
   "cell_type": "code",
   "execution_count": null,
   "outputs": [],
   "source": [
    "hyperedges_resampled_path = f\"{path_main_dir}/data/{dataset_name}/hyperedges-{dataset_name}.txt\"\n",
    "\n",
    "with open(hyperedges_resampled_path, \"w\") as f:\n",
    "    for i, edge in enumerate(hyperedges):\n",
    "        line = f\"{i} \" + str(edge).replace(\"{\", \"\").replace(\"}\", \"\").replace(\",\", \"\") + \"\\n\"\n",
    "        f.write(line)"
   ],
   "metadata": {
    "collapsed": false,
    "pycharm": {
     "name": "#%%\n"
    }
   }
  },
  {
   "cell_type": "code",
   "execution_count": null,
   "outputs": [],
   "source": [
    "nodes_df_resampled_path = f\"{path_main_dir}/data/{dataset_name}/node-labels-{dataset_name}.csv\"\n",
    "\n",
    "nodes_reversed = dict()\n",
    "for k, v in nodes.items():\n",
    "    nodes_reversed.update(dict(zip(v, [k] * len(v))))\n",
    "\n",
    "df_nodes = pd.DataFrame.from_dict(nodes_reversed, orient=\"index\", columns=[\"target\"])\n",
    "df_nodes.index.name = \"id\"\n",
    "df_nodes.head(20)\n",
    "\n",
    "df_nodes.to_csv(nodes_df_resampled_path)"
   ],
   "metadata": {
    "collapsed": false,
    "pycharm": {
     "name": "#%%\n"
    }
   }
  },
  {
   "cell_type": "markdown",
   "source": [
    "Update star schema"
   ],
   "metadata": {
    "collapsed": false,
    "pycharm": {
     "name": "#%% md\n"
    }
   }
  },
  {
   "cell_type": "code",
   "execution_count": null,
   "outputs": [],
   "source": [
    "filepath_in = hyperedges_resampled_path\n",
    "filepath_out = f\"{path_main_dir}/data/{dataset_name}/star-{dataset_name}.txt\"\n",
    "\n",
    "with open(filepath_in, 'r') as f_in, open(filepath_out, 'w') as f_out:\n",
    "    for line in f_in.readlines():\n",
    "        lst = line.split()\n",
    "\n",
    "        for elem in lst:\n",
    "            f_out.write(f\"{lst[0]}\\t{elem}\\n\")"
   ],
   "metadata": {
    "collapsed": false,
    "pycharm": {
     "name": "#%%\n"
    }
   }
  },
  {
   "cell_type": "markdown",
   "source": [
    "Copy label names file"
   ],
   "metadata": {
    "collapsed": false,
    "pycharm": {
     "name": "#%% md\n"
    }
   }
  },
  {
   "cell_type": "code",
   "execution_count": null,
   "outputs": [],
   "source": [
    "import shutil\n",
    "\n",
    "label_names_path_new = f\"{path_main_dir}/data/{dataset_name}/label-names-{dataset_name}.txt\"\n",
    "\n",
    "shutil.copy2(label_names_path, label_names_path_new)"
   ],
   "metadata": {
    "collapsed": false,
    "pycharm": {
     "name": "#%%\n"
    }
   }
  }
 ],
 "metadata": {
  "kernelspec": {
   "display_name": "Python 3",
   "language": "python",
   "name": "python3"
  },
  "language_info": {
   "codemirror_mode": {
    "name": "ipython",
    "version": 2
   },
   "file_extension": ".py",
   "mimetype": "text/x-python",
   "name": "python",
   "nbconvert_exporter": "python",
   "pygments_lexer": "ipython2",
   "version": "2.7.6"
  }
 },
 "nbformat": 4,
 "nbformat_minor": 0
}