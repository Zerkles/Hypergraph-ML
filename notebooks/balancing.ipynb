{
 "cells": [
  {
   "cell_type": "code",
   "execution_count": null,
   "outputs": [],
   "source": [
    "import pandas as pd\n",
    "\n",
    "path_main_dir = \"..\""
   ],
   "metadata": {
    "collapsed": false,
    "pycharm": {
     "name": "#%%\n"
    }
   }
  },
  {
   "cell_type": "code",
   "execution_count": null,
   "metadata": {
    "collapsed": true,
    "pycharm": {
     "name": "#%%\n"
    }
   },
   "outputs": [],
   "source": [
    "import random\n",
    "\n",
    "\n",
    "class LabelsConverter:\n",
    "    def __init__(self, labels_path):\n",
    "        labels = []\n",
    "        with open(labels_path) as f:\n",
    "            for line in f.readlines():\n",
    "                labels.append(line[:-1])\n",
    "\n",
    "        self.DECODE_MAP = dict(zip(range(len(labels)), labels))\n",
    "        self.ENCODE_MAP = dict(zip(labels, range(len(labels))))\n",
    "\n",
    "    def decode_label(self, label):\n",
    "        return self.DECODE_MAP[label]\n",
    "\n",
    "    def encode_label(self, label):\n",
    "        return self.ENCODE_MAP[label]\n",
    "\n",
    "    def decode_dct(self, dct):\n",
    "        return {self.decode_label(k): v for k, v in dct.items()}\n",
    "\n",
    "    def encode_dct(self, dct):\n",
    "        return {self.encode_label(k): v for k, v in dct.items()}\n",
    "\n",
    "    def get_targets(self):\n",
    "        return list(self.DECODE_MAP.keys())\n",
    "\n",
    "\n",
    "class HypergraphRandomUnderSampler:\n",
    "\n",
    "    def __init__(self, nodes_df_path, hyperedges_path, label_names_path):\n",
    "        self.conv = LabelsConverter(label_names_path)\n",
    "        self.nodes = self.load_nodes(nodes_df_path)\n",
    "        self.hyperedges = self.load_hyperedges(hyperedges_path)\n",
    "\n",
    "    def load_nodes(self, nodes_df_path):\n",
    "        df = pd.read_csv(nodes_df_path, index_col=0)\n",
    "        nodes = dict()\n",
    "\n",
    "        for target in self.conv.get_targets():\n",
    "            nodes[target] = set(df.loc[df['target'] == target].index)\n",
    "\n",
    "        return nodes\n",
    "\n",
    "    @staticmethod\n",
    "    def load_hyperedges(hyperedges_path):\n",
    "        with open(hyperedges_path) as f_edges:\n",
    "            hyperedges = []\n",
    "            for line in f_edges.readlines():\n",
    "                # if len({int(x) for x in line.split()[1:]}) - len(line.split()[1:]) != 0:\n",
    "                #     print(\"BONK\")\n",
    "\n",
    "                hyperedges.append({int(x) for x in line.split()[1:]})\n",
    "\n",
    "            return hyperedges\n",
    "\n",
    "    @staticmethod\n",
    "    def calc_distribution(nodes, hyperedges, method):\n",
    "        distrib = dict(zip(nodes.keys(), [0] * len(nodes)))\n",
    "\n",
    "        if method == \"node\":\n",
    "            distrib = {k: len(v) for k, v in nodes.items()}\n",
    "\n",
    "        elif method == \"hyperedge\":\n",
    "            for edge in hyperedges:\n",
    "                for k in nodes.keys():\n",
    "                    distrib[k] += len(nodes[k].intersection(edge))\n",
    "\n",
    "            distrib = {k: v for k, v in distrib.items()}\n",
    "\n",
    "        else:\n",
    "            raise ValueError(\"Method nod recognized\")\n",
    "\n",
    "        return distrib\n",
    "\n",
    "    def transform(self, method):\n",
    "        nodes = self.nodes\n",
    "        hyperedges = self.hyperedges\n",
    "\n",
    "        distrib = self.calc_distribution(nodes, hyperedges, method)\n",
    "        print(\"Before resampling:\", self.conv.decode_dct(distrib))\n",
    "\n",
    "        minority_class = min(distrib, key=distrib.get)\n",
    "        majority_classes = list(distrib.keys())\n",
    "        majority_classes.remove(minority_class)\n",
    "\n",
    "        while majority_classes:\n",
    "            class_under_resampling = majority_classes[0]\n",
    "\n",
    "            while distrib[class_under_resampling] > min(distrib.values()):\n",
    "                node_to_remove = random.choice(list(nodes[class_under_resampling]))\n",
    "\n",
    "                if method == 'node':\n",
    "                    distrib[class_under_resampling] -= 1\n",
    "                    [edge.discard(node_to_remove) for edge in hyperedges]\n",
    "                else:\n",
    "                    for edge in hyperedges:\n",
    "                        if node_to_remove in edge:\n",
    "                            diff = self.calc_distribution(nodes, [edge], method)\n",
    "                            distrib = {k: v - diff[k] for k, v in distrib.items()}\n",
    "\n",
    "                            edge.discard(node_to_remove)\n",
    "\n",
    "                            diff = self.calc_distribution(nodes, [edge], method)\n",
    "                            distrib = {k: v + diff[k] for k, v in distrib.items()}\n",
    "\n",
    "                nodes[class_under_resampling].remove(node_to_remove)\n",
    "\n",
    "            majority_classes.pop(0)\n",
    "            print(self.conv.decode_dct(distrib))\n",
    "\n",
    "        hyperedges = list(filter((set()).__ne__, hyperedges))  #clear empty edges\n",
    "\n",
    "        return nodes, hyperedges"
   ]
  },
  {
   "cell_type": "code",
   "execution_count": null,
   "outputs": [],
   "source": [
    "import time\n",
    "\n",
    "dataset_name = \"trivago-clicks-continents\"\n",
    "method = 'node'  # options: node, hyperedge\n",
    "\n",
    "label_names_path = f\"{path_main_dir}/data/{dataset_name}/label-names-{dataset_name}.txt\"\n",
    "nodes_df_path = f\"{path_main_dir}/data/{dataset_name}/node-labels-{dataset_name}.csv\"\n",
    "hyperedges_path = f\"{path_main_dir}/data/{dataset_name}/hyperedges-{dataset_name}.txt\"\n",
    "\n",
    "resampler = HypergraphRandomUnderSampler(nodes_df_path, hyperedges_path, label_names_path)\n",
    "\n",
    "start_time = time.time()\n",
    "nodes, hyperedges = resampler.transform(method)\n",
    "print(\"It took:\", round(time.time() - start_time, 2), \"[s]\")\n",
    "\n",
    "result = resampler.conv.decode_dct(resampler.calc_distribution(nodes, hyperedges, method))\n",
    "print(\"After resampling:\", result)\n",
    "\n",
    "#TODO: Zmiana indeksów wierzchołków żeby zaczynały się od 1 i szły po kolei i zmiana w krawędziach ?"
   ],
   "metadata": {
    "collapsed": false,
    "pycharm": {
     "name": "#%%\n"
    }
   }
  },
  {
   "cell_type": "markdown",
   "source": [
    "Save to file"
   ],
   "metadata": {
    "collapsed": false,
    "pycharm": {
     "name": "#%% md\n"
    }
   }
  },
  {
   "cell_type": "code",
   "execution_count": null,
   "outputs": [],
   "source": [
    "import os\n",
    "\n",
    "dataset_name += \"-resampled-\" + method\n",
    "os.makedirs(f\"{path_main_dir}/data/{dataset_name}/\", exist_ok=True)"
   ],
   "metadata": {
    "collapsed": false,
    "pycharm": {
     "name": "#%%\n"
    }
   }
  },
  {
   "cell_type": "code",
   "execution_count": null,
   "outputs": [],
   "source": [
    "hyperedges_resampled_path = f\"{path_main_dir}/data/{dataset_name}/hyperedges-{dataset_name}.txt\"\n",
    "\n",
    "with open(hyperedges_resampled_path, \"w\") as f:\n",
    "    for i, edge in enumerate(hyperedges):\n",
    "        line = f\"{i} \" + str(edge).replace(\"{\", \"\").replace(\"}\", \"\").replace(\",\", \"\") + \"\\n\"\n",
    "        f.write(line)"
   ],
   "metadata": {
    "collapsed": false,
    "pycharm": {
     "name": "#%%\n"
    }
   }
  },
  {
   "cell_type": "code",
   "execution_count": null,
   "outputs": [],
   "source": [
    "nodes_df_resampled_path = f\"{path_main_dir}/data/{dataset_name}/node-labels-{dataset_name}.csv\"\n",
    "\n",
    "nodes_reversed = dict()\n",
    "for k, v in nodes.items():\n",
    "    nodes_reversed.update(dict(zip(v, [k] * len(v))))\n",
    "\n",
    "df_nodes = pd.DataFrame.from_dict(nodes_reversed, orient=\"index\", columns=[\"target\"])\n",
    "df_nodes.index.name = \"id\"\n",
    "df_nodes.head(20)\n",
    "\n",
    "df_nodes.to_csv(nodes_df_resampled_path)"
   ],
   "metadata": {
    "collapsed": false,
    "pycharm": {
     "name": "#%%\n"
    }
   }
  },
  {
   "cell_type": "markdown",
   "source": [
    "Update star schema"
   ],
   "metadata": {
    "collapsed": false,
    "pycharm": {
     "name": "#%% md\n"
    }
   }
  },
  {
   "cell_type": "code",
   "execution_count": null,
   "outputs": [],
   "source": [
    "filepath_in = hyperedges_resampled_path\n",
    "filepath_out = f\"{path_main_dir}/data/{dataset_name}/star-{dataset_name}.txt\"\n",
    "\n",
    "with open(filepath_in, 'r') as f_in, open(filepath_out, 'w') as f_out:\n",
    "    for line in f_in.readlines():\n",
    "        lst = line.split()\n",
    "\n",
    "        for elem in lst:\n",
    "            f_out.write(f\"{lst[0]}\\t{elem}\\n\")"
   ],
   "metadata": {
    "collapsed": false,
    "pycharm": {
     "name": "#%%\n"
    }
   }
  },
  {
   "cell_type": "markdown",
   "source": [
    "Copy label names file"
   ],
   "metadata": {
    "collapsed": false,
    "pycharm": {
     "name": "#%% md\n"
    }
   }
  },
  {
   "cell_type": "code",
   "execution_count": null,
   "outputs": [],
   "source": [
    "import shutil\n",
    "\n",
    "label_names_path_new = f\"{path_main_dir}/data/{dataset_name}/label-names-{dataset_name}.txt\"\n",
    "\n",
    "shutil.copy2(label_names_path, label_names_path_new)"
   ],
   "metadata": {
    "collapsed": false,
    "pycharm": {
     "name": "#%%\n"
    }
   }
  }
 ],
 "metadata": {
  "kernelspec": {
   "display_name": "Python 3",
   "language": "python",
   "name": "python3"
  },
  "language_info": {
   "codemirror_mode": {
    "name": "ipython",
    "version": 2
   },
   "file_extension": ".py",
   "mimetype": "text/x-python",
   "name": "python",
   "nbconvert_exporter": "python",
   "pygments_lexer": "ipython2",
   "version": "2.7.6"
  }
 },
 "nbformat": 4,
 "nbformat_minor": 0
}